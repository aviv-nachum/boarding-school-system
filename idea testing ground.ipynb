{
 "cells": [
  {
   "cell_type": "code",
   "execution_count": 1,
   "metadata": {},
   "outputs": [
    {
     "name": "stdout",
     "output_type": "stream",
     "text": [
      "b'\\x01\\x00\\x00\\x00\\x02\\x00\\x00\\x00\\xc3\\xf5H@'\n",
      "(1, 2, 3.140000104904175)\n"
     ]
    }
   ],
   "source": [
    "import struct\n",
    "# Pack two integers and a float into bytes\n",
    "packed_data = struct.pack('ii f', 1, 2, 3.14)\n",
    "print(packed_data)\n",
    "# Unpack bytes back into original data\n",
    "unpacked_data = struct.unpack('ii f', packed_data)\n",
    "print(unpacked_data)\n"
   ]
  },
  {
   "cell_type": "code",
   "execution_count": 2,
   "metadata": {},
   "outputs": [
    {
     "name": "stdout",
     "output_type": "stream",
     "text": [
      "{\"id\": 1, \"message\": \"hello\"} {'id': 1, 'message': 'hello'}\n"
     ]
    }
   ],
   "source": [
    "import json\n",
    "data = {\"id\": 1, \"message\": \"hello\"}\n",
    "serialized = json.dumps(data)\n",
    "deserialized = json.loads(serialized)\n",
    "print(serialized, deserialized)"
   ]
  },
  {
   "cell_type": "code",
   "execution_count": null,
   "metadata": {},
   "outputs": [],
   "source": []
  }
 ],
 "metadata": {
  "kernelspec": {
   "display_name": "Python 3",
   "language": "python",
   "name": "python3"
  },
  "language_info": {
   "codemirror_mode": {
    "name": "ipython",
    "version": 3
   },
   "file_extension": ".py",
   "mimetype": "text/x-python",
   "name": "python",
   "nbconvert_exporter": "python",
   "pygments_lexer": "ipython3",
   "version": "3.10.5"
  }
 },
 "nbformat": 4,
 "nbformat_minor": 2
}
