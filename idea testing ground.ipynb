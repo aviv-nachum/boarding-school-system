{
 "cells": [
  {
   "cell_type": "code",
   "execution_count": 1,
   "metadata": {},
   "outputs": [
    {
     "name": "stdout",
     "output_type": "stream",
     "text": [
      "b'\\x01\\x00\\x00\\x00\\x02\\x00\\x00\\x00\\xc3\\xf5H@'\n",
      "(1, 2, 3.140000104904175)\n"
     ]
    }
   ],
   "source": [
    "import struct\n",
    "# Pack two integers and a float into bytes\n",
    "packed_data = struct.pack('ii f', 1, 2, 3.14)\n",
    "print(packed_data)\n",
    "# Unpack bytes back into original data\n",
    "unpacked_data = struct.unpack('ii f', packed_data)\n",
    "print(unpacked_data)\n"
   ]
  },
  {
   "cell_type": "code",
   "execution_count": 2,
   "metadata": {},
   "outputs": [
    {
     "name": "stdout",
     "output_type": "stream",
     "text": [
      "{\"id\": 1, \"message\": \"hello\"} {'id': 1, 'message': 'hello'}\n"
     ]
    }
   ],
   "source": [
    "import json\n",
    "data = {\"id\": 1, \"message\": \"hello\"}\n",
    "serialized = json.dumps(data)\n",
    "deserialized = json.loads(serialized)\n",
    "print(serialized, deserialized)"
   ]
  },
  {
   "cell_type": "code",
   "execution_count": 24,
   "metadata": {},
   "outputs": [
    {
     "name": "stdout",
     "output_type": "stream",
     "text": [
      "k co cxkx\n",
      "i am aviv\n"
     ]
    }
   ],
   "source": [
    "msg = \"i am aviv\"\n",
    "def rollTheString(s , roll_num):\n",
    "    res = list(s)\n",
    "\n",
    "    for i in range(len(s))[::-1]:\n",
    "        res[i] = roll_char(res[i], roll_num)\n",
    "\n",
    "    return \"\".join(res)\n",
    "\n",
    "\n",
    "def roll_char(char, r):\n",
    "    if char == \" \":\n",
    "        return char\n",
    "    a = ord('a')\n",
    "    c = ord(char) - a\n",
    "    return chr((a + (c + r) % 26))\n",
    "\n",
    "rolled_msg = rollTheString(msg,2)\n",
    "print(rolled_msg)\n",
    "origin = rollTheString(rolled_msg,-2)\n",
    "print(origin)"
   ]
  },
  {
   "cell_type": "code",
   "execution_count": 19,
   "metadata": {},
   "outputs": [
    {
     "name": "stdout",
     "output_type": "stream",
     "text": [
      "b'hi, my name is \\x01'\n",
      "True\n",
      "b'hi, my name is '\n"
     ]
    }
   ],
   "source": [
    "from Crypto.Util.Padding import pad, unpad\n",
    "msg = b\"hi, my name is \"\n",
    "padded = pad(msg, 16)\n",
    "print(padded)\n",
    "print(len(padded) % 16 == 0)\n",
    "print(unpad(padded,16))"
   ]
  },
  {
   "cell_type": "code",
   "execution_count": null,
   "metadata": {},
   "outputs": [],
   "source": []
  }
 ],
 "metadata": {
  "kernelspec": {
   "display_name": "Python 3",
   "language": "python",
   "name": "python3"
  },
  "language_info": {
   "codemirror_mode": {
    "name": "ipython",
    "version": 3
   },
   "file_extension": ".py",
   "mimetype": "text/x-python",
   "name": "python",
   "nbconvert_exporter": "python",
   "pygments_lexer": "ipython3",
   "version": "3.13.1"
  }
 },
 "nbformat": 4,
 "nbformat_minor": 2
}
