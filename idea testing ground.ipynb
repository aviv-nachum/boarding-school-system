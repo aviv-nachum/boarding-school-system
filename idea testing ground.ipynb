{
 "cells": [
  {
   "cell_type": "code",
   "execution_count": 1,
   "metadata": {},
   "outputs": [
    {
     "name": "stdout",
     "output_type": "stream",
     "text": [
      "b'\\x01\\x00\\x00\\x00\\x02\\x00\\x00\\x00\\xc3\\xf5H@'\n",
      "(1, 2, 3.140000104904175)\n"
     ]
    }
   ],
   "source": [
    "import struct\n",
    "# Pack two integers and a float into bytes\n",
    "packed_data = struct.pack('ii f', 1, 2, 3.14)\n",
    "print(packed_data)\n",
    "# Unpack bytes back into original data\n",
    "unpacked_data = struct.unpack('ii f', packed_data)\n",
    "print(unpacked_data)\n"
   ]
  },
  {
   "cell_type": "code",
   "execution_count": 2,
   "metadata": {},
   "outputs": [
    {
     "name": "stdout",
     "output_type": "stream",
     "text": [
      "{\"id\": 1, \"message\": \"hello\"} {'id': 1, 'message': 'hello'}\n"
     ]
    }
   ],
   "source": [
    "import json\n",
    "data = {\"id\": 1, \"message\": \"hello\"}\n",
    "serialized = json.dumps(data)\n",
    "deserialized = json.loads(serialized)\n",
    "print(serialized, deserialized)"
   ]
  },
  {
   "cell_type": "code",
   "execution_count": 24,
   "metadata": {},
   "outputs": [
    {
     "name": "stdout",
     "output_type": "stream",
     "text": [
      "k co cxkx\n",
      "i am aviv\n"
     ]
    }
   ],
   "source": [
    "msg = \"i am aviv\"\n",
    "def rollTheString(s , roll_num):\n",
    "    res = list(s)\n",
    "\n",
    "    for i in range(len(s))[::-1]:\n",
    "        res[i] = roll_char(res[i], roll_num)\n",
    "\n",
    "    return \"\".join(res)\n",
    "\n",
    "\n",
    "def roll_char(char, r):\n",
    "    if char == \" \":\n",
    "        return char\n",
    "    a = ord('a')\n",
    "    c = ord(char) - a\n",
    "    return chr((a + (c + r) % 26))\n",
    "\n",
    "rolled_msg = rollTheString(msg,2)\n",
    "print(rolled_msg)\n",
    "origin = rollTheString(rolled_msg,-2)\n",
    "print(origin)"
   ]
  },
  {
   "cell_type": "code",
   "execution_count": 26,
   "metadata": {},
   "outputs": [
    {
     "ename": "ModuleNotFoundError",
     "evalue": "No module named 'Crypto'",
     "output_type": "error",
     "traceback": [
      "\u001b[1;31m---------------------------------------------------------------------------\u001b[0m",
      "\u001b[1;31mModuleNotFoundError\u001b[0m                       Traceback (most recent call last)",
      "Cell \u001b[1;32mIn[26], line 1\u001b[0m\n\u001b[1;32m----> 1\u001b[0m \u001b[38;5;28;01mfrom\u001b[39;00m \u001b[38;5;21;01mCrypto\u001b[39;00m\u001b[38;5;21;01m.\u001b[39;00m\u001b[38;5;21;01mUtill\u001b[39;00m\u001b[38;5;21;01m.\u001b[39;00m\u001b[38;5;21;01mPadding\u001b[39;00m \u001b[38;5;28;01mimport\u001b[39;00m pad, unpad\n\u001b[0;32m      2\u001b[0m msg \u001b[38;5;241m=\u001b[39m \u001b[38;5;124mb\u001b[39m\u001b[38;5;124m\"\u001b[39m\u001b[38;5;124mhi\u001b[39m\u001b[38;5;124m\"\u001b[39m\n\u001b[0;32m      3\u001b[0m padded \u001b[38;5;241m=\u001b[39m pad(msg, \u001b[38;5;241m16\u001b[39m)\n",
      "\u001b[1;31mModuleNotFoundError\u001b[0m: No module named 'Crypto'"
     ]
    }
   ],
   "source": [
    "from Crypto.Utill.Padding import pad, unpad\n",
    "msg = b\"hi\"\n",
    "padded = pad(msg, 16)\n",
    "len(padded % 16 == 0)\n",
    "print(unpad(padded))"
   ]
  },
  {
   "cell_type": "code",
   "execution_count": null,
   "metadata": {},
   "outputs": [],
   "source": []
  }
 ],
 "metadata": {
  "kernelspec": {
   "display_name": "Python 3",
   "language": "python",
   "name": "python3"
  },
  "language_info": {
   "codemirror_mode": {
    "name": "ipython",
    "version": 3
   },
   "file_extension": ".py",
   "mimetype": "text/x-python",
   "name": "python",
   "nbconvert_exporter": "python",
   "pygments_lexer": "ipython3",
   "version": "3.13.1"
  }
 },
 "nbformat": 4,
 "nbformat_minor": 2
}
